{
 "cells": [
  {
   "cell_type": "code",
   "execution_count": 9,
   "metadata": {},
   "outputs": [
    {
     "name": "stdout",
     "output_type": "stream",
     "text": [
      "Connection established successfully.\n"
     ]
    }
   ],
   "source": [
    "import psycopg2\n",
    "from psycopg2 import sql\n",
    "import getpass\n",
    "\n",
    "def create_connection():\n",
    "    \"\"\"\n",
    "    Establishes a connection to the PostgreSQL database.\n",
    "    \n",
    "    Returns:\n",
    "        conn: A connection object to the PostgreSQL database.\n",
    "    \"\"\"\n",
    "    try:\n",
    "        # Prompt the user to enter the password at runtime\n",
    "        password = getpass.getpass(\"Enter your PostgreSQL password: \")\n",
    "        \n",
    "        conn = psycopg2.connect(\n",
    "            dbname='myfirstdatabase',\n",
    "            user='postgres',\n",
    "            host='localhost',\n",
    "            port='5433',\n",
    "            password=password\n",
    "        )\n",
    "        return conn\n",
    "    except Exception as e:\n",
    "        print(f\"Unable to connect to the database: {e}\")\n",
    "        return None\n",
    "\n",
    "# Example usage\n",
    "if __name__ == \"__main__\":\n",
    "    connection = create_connection()\n",
    "    if connection:\n",
    "        print(\"Connection established successfully.\")\n",
    "        # Don't forget to close the connection when done\n",
    "        connection.close()"
   ]
  },
  {
   "cell_type": "code",
   "execution_count": 10,
   "metadata": {},
   "outputs": [
    {
     "name": "stdout",
     "output_type": "stream",
     "text": [
      "Table created successfully\n"
     ]
    }
   ],
   "source": [
    "def create_table(conn):\n",
    "    \"\"\"\n",
    "    Creates the 'students' table in the PostgreSQL database if it does not exist.\n",
    "    \n",
    "    Args:\n",
    "        conn: A connection object to the PostgreSQL database.\n",
    "    \"\"\"\n",
    "    try:\n",
    "        cur = conn.cursor()\n",
    "        create_table_query = \"\"\"\n",
    "        CREATE TABLE IF NOT EXISTS students (\n",
    "            studentid INT PRIMARY KEY,\n",
    "            name VARCHAR,\n",
    "            age INT,\n",
    "            gender VARCHAR,\n",
    "            subject VARCHAR,\n",
    "            marks INT\n",
    "        )\n",
    "        \"\"\"\n",
    "        cur.execute(create_table_query)\n",
    "        conn.commit()\n",
    "        print(\"Table created successfully\")\n",
    "        cur.close()\n",
    "    except Exception as e:\n",
    "        print(f\"An error occurred: {e}\")\n",
    "\n",
    "def main():\n",
    "    \"\"\"\n",
    "    Main function to create the 'students' table.\n",
    "    \"\"\"\n",
    "    conn = create_connection()\n",
    "    if conn:\n",
    "        create_table(conn)\n",
    "        conn.close()\n",
    "\n",
    "if __name__ == \"__main__\":\n",
    "    main()"
   ]
  },
  {
   "cell_type": "code",
   "execution_count": null,
   "metadata": {},
   "outputs": [],
   "source": []
  }
 ],
 "metadata": {
  "kernelspec": {
   "display_name": "Python 3",
   "language": "python",
   "name": "python3"
  },
  "language_info": {
   "codemirror_mode": {
    "name": "ipython",
    "version": 3
   },
   "file_extension": ".py",
   "mimetype": "text/x-python",
   "name": "python",
   "nbconvert_exporter": "python",
   "pygments_lexer": "ipython3",
   "version": "3.12.0"
  }
 },
 "nbformat": 4,
 "nbformat_minor": 2
}
